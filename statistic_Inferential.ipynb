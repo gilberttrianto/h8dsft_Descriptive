{
 "cells": [
  {
   "attachments": {},
   "cell_type": "markdown",
   "metadata": {},
   "source": [
    "- Look for the Measure of Central Tendency from the data.\n",
    "- Look for the Measure of Variance from the data."
   ]
  },
  {
   "cell_type": "code",
   "execution_count": 1,
   "metadata": {},
   "outputs": [],
   "source": [
    "# Import library used\n",
    "import pandas as pd"
   ]
  },
  {
   "cell_type": "code",
   "execution_count": 2,
   "metadata": {},
   "outputs": [],
   "source": [
    "# Import dataset\n",
    "covid = pd.read_csv(\"covid_19_indonesia_time_series_all.csv\")"
   ]
  },
  {
   "cell_type": "code",
   "execution_count": 3,
   "metadata": {},
   "outputs": [
    {
     "name": "stdout",
     "output_type": "stream",
     "text": [
      "<class 'pandas.core.frame.DataFrame'>\n",
      "RangeIndex: 31822 entries, 0 to 31821\n",
      "Data columns (total 38 columns):\n",
      " #   Column                       Non-Null Count  Dtype  \n",
      "---  ------                       --------------  -----  \n",
      " 0   Date                         31822 non-null  object \n",
      " 1   Location ISO Code            31822 non-null  object \n",
      " 2   Location                     31822 non-null  object \n",
      " 3   New Cases                    31822 non-null  int64  \n",
      " 4   New Deaths                   31822 non-null  int64  \n",
      " 5   New Recovered                31822 non-null  int64  \n",
      " 6   New Active Cases             31822 non-null  int64  \n",
      " 7   Total Cases                  31822 non-null  int64  \n",
      " 8   Total Deaths                 31822 non-null  int64  \n",
      " 9   Total Recovered              31822 non-null  int64  \n",
      " 10  Total Active Cases           31822 non-null  int64  \n",
      " 11  Location Level               31822 non-null  object \n",
      " 12  City or Regency              0 non-null      float64\n",
      " 13  Province                     30893 non-null  object \n",
      " 14  Country                      31822 non-null  object \n",
      " 15  Continent                    31822 non-null  object \n",
      " 16  Island                       30893 non-null  object \n",
      " 17  Time Zone                    30893 non-null  object \n",
      " 18  Special Status               4558 non-null   object \n",
      " 19  Total Regencies              31822 non-null  int64  \n",
      " 20  Total Cities                 30921 non-null  float64\n",
      " 21  Total Districts              31822 non-null  int64  \n",
      " 22  Total Urban Villages         30918 non-null  float64\n",
      " 23  Total Rural Villages         30893 non-null  float64\n",
      " 24  Area (km2)                   31822 non-null  int64  \n",
      " 25  Population                   31822 non-null  int64  \n",
      " 26  Population Density           31822 non-null  float64\n",
      " 27  Longitude                    31822 non-null  float64\n",
      " 28  Latitude                     31822 non-null  float64\n",
      " 29  New Cases per Million        31822 non-null  float64\n",
      " 30  Total Cases per Million      31822 non-null  float64\n",
      " 31  New Deaths per Million       31822 non-null  float64\n",
      " 32  Total Deaths per Million     31822 non-null  float64\n",
      " 33  Total Deaths per 100rb       31822 non-null  float64\n",
      " 34  Case Fatality Rate           31822 non-null  object \n",
      " 35  Case Recovered Rate          31822 non-null  object \n",
      " 36  Growth Factor of New Cases   29883 non-null  float64\n",
      " 37  Growth Factor of New Deaths  28375 non-null  float64\n",
      "dtypes: float64(14), int64(12), object(12)\n",
      "memory usage: 9.2+ MB\n"
     ]
    }
   ],
   "source": [
    "covid.info()"
   ]
  },
  {
   "cell_type": "code",
   "execution_count": 49,
   "metadata": {},
   "outputs": [
    {
     "data": {
      "text/html": [
       "<div>\n",
       "<style scoped>\n",
       "    .dataframe tbody tr th:only-of-type {\n",
       "        vertical-align: middle;\n",
       "    }\n",
       "\n",
       "    .dataframe tbody tr th {\n",
       "        vertical-align: top;\n",
       "    }\n",
       "\n",
       "    .dataframe thead th {\n",
       "        text-align: right;\n",
       "    }\n",
       "</style>\n",
       "<table border=\"1\" class=\"dataframe\">\n",
       "  <thead>\n",
       "    <tr style=\"text-align: right;\">\n",
       "      <th></th>\n",
       "      <th>Date</th>\n",
       "      <th>Location ISO Code</th>\n",
       "      <th>Location</th>\n",
       "      <th>New Cases</th>\n",
       "      <th>New Deaths</th>\n",
       "      <th>New Recovered</th>\n",
       "      <th>New Active Cases</th>\n",
       "      <th>Total Cases</th>\n",
       "      <th>Total Deaths</th>\n",
       "      <th>Total Recovered</th>\n",
       "      <th>...</th>\n",
       "      <th>Latitude</th>\n",
       "      <th>New Cases per Million</th>\n",
       "      <th>Total Cases per Million</th>\n",
       "      <th>New Deaths per Million</th>\n",
       "      <th>Total Deaths per Million</th>\n",
       "      <th>Total Deaths per 100rb</th>\n",
       "      <th>Case Fatality Rate</th>\n",
       "      <th>Case Recovered Rate</th>\n",
       "      <th>Growth Factor of New Cases</th>\n",
       "      <th>Growth Factor of New Deaths</th>\n",
       "    </tr>\n",
       "  </thead>\n",
       "  <tbody>\n",
       "    <tr>\n",
       "      <th>198</th>\n",
       "      <td>3/23/2020</td>\n",
       "      <td>ID-SS</td>\n",
       "      <td>Sumatera Selatan</td>\n",
       "      <td>1</td>\n",
       "      <td>2</td>\n",
       "      <td>0</td>\n",
       "      <td>-1</td>\n",
       "      <td>1</td>\n",
       "      <td>2</td>\n",
       "      <td>1</td>\n",
       "      <td>...</td>\n",
       "      <td>-3.216212</td>\n",
       "      <td>0.12</td>\n",
       "      <td>0.12</td>\n",
       "      <td>0.24</td>\n",
       "      <td>0.24</td>\n",
       "      <td>0.02</td>\n",
       "      <td>200.00%</td>\n",
       "      <td>100.00%</td>\n",
       "      <td>NaN</td>\n",
       "      <td>NaN</td>\n",
       "    </tr>\n",
       "    <tr>\n",
       "      <th>217</th>\n",
       "      <td>3/24/2020</td>\n",
       "      <td>ID-SS</td>\n",
       "      <td>Sumatera Selatan</td>\n",
       "      <td>0</td>\n",
       "      <td>0</td>\n",
       "      <td>0</td>\n",
       "      <td>0</td>\n",
       "      <td>1</td>\n",
       "      <td>2</td>\n",
       "      <td>1</td>\n",
       "      <td>...</td>\n",
       "      <td>-3.216212</td>\n",
       "      <td>0.00</td>\n",
       "      <td>0.12</td>\n",
       "      <td>0.00</td>\n",
       "      <td>0.24</td>\n",
       "      <td>0.02</td>\n",
       "      <td>200.00%</td>\n",
       "      <td>100.00%</td>\n",
       "      <td>0.00</td>\n",
       "      <td>0.0</td>\n",
       "    </tr>\n",
       "    <tr>\n",
       "      <th>236</th>\n",
       "      <td>3/25/2020</td>\n",
       "      <td>ID-SS</td>\n",
       "      <td>Sumatera Selatan</td>\n",
       "      <td>0</td>\n",
       "      <td>0</td>\n",
       "      <td>0</td>\n",
       "      <td>0</td>\n",
       "      <td>1</td>\n",
       "      <td>2</td>\n",
       "      <td>1</td>\n",
       "      <td>...</td>\n",
       "      <td>-3.216212</td>\n",
       "      <td>0.00</td>\n",
       "      <td>0.12</td>\n",
       "      <td>0.00</td>\n",
       "      <td>0.24</td>\n",
       "      <td>0.02</td>\n",
       "      <td>200.00%</td>\n",
       "      <td>100.00%</td>\n",
       "      <td>1.00</td>\n",
       "      <td>1.0</td>\n",
       "    </tr>\n",
       "    <tr>\n",
       "      <th>261</th>\n",
       "      <td>3/26/2020</td>\n",
       "      <td>ID-SS</td>\n",
       "      <td>Sumatera Selatan</td>\n",
       "      <td>0</td>\n",
       "      <td>0</td>\n",
       "      <td>0</td>\n",
       "      <td>0</td>\n",
       "      <td>1</td>\n",
       "      <td>2</td>\n",
       "      <td>1</td>\n",
       "      <td>...</td>\n",
       "      <td>-3.216212</td>\n",
       "      <td>0.00</td>\n",
       "      <td>0.12</td>\n",
       "      <td>0.00</td>\n",
       "      <td>0.24</td>\n",
       "      <td>0.02</td>\n",
       "      <td>200.00%</td>\n",
       "      <td>100.00%</td>\n",
       "      <td>1.00</td>\n",
       "      <td>1.0</td>\n",
       "    </tr>\n",
       "    <tr>\n",
       "      <th>287</th>\n",
       "      <td>3/27/2020</td>\n",
       "      <td>ID-SS</td>\n",
       "      <td>Sumatera Selatan</td>\n",
       "      <td>0</td>\n",
       "      <td>0</td>\n",
       "      <td>0</td>\n",
       "      <td>0</td>\n",
       "      <td>1</td>\n",
       "      <td>2</td>\n",
       "      <td>1</td>\n",
       "      <td>...</td>\n",
       "      <td>-3.216212</td>\n",
       "      <td>0.00</td>\n",
       "      <td>0.12</td>\n",
       "      <td>0.00</td>\n",
       "      <td>0.24</td>\n",
       "      <td>0.02</td>\n",
       "      <td>200.00%</td>\n",
       "      <td>100.00%</td>\n",
       "      <td>1.00</td>\n",
       "      <td>1.0</td>\n",
       "    </tr>\n",
       "    <tr>\n",
       "      <th>...</th>\n",
       "      <td>...</td>\n",
       "      <td>...</td>\n",
       "      <td>...</td>\n",
       "      <td>...</td>\n",
       "      <td>...</td>\n",
       "      <td>...</td>\n",
       "      <td>...</td>\n",
       "      <td>...</td>\n",
       "      <td>...</td>\n",
       "      <td>...</td>\n",
       "      <td>...</td>\n",
       "      <td>...</td>\n",
       "      <td>...</td>\n",
       "      <td>...</td>\n",
       "      <td>...</td>\n",
       "      <td>...</td>\n",
       "      <td>...</td>\n",
       "      <td>...</td>\n",
       "      <td>...</td>\n",
       "      <td>...</td>\n",
       "      <td>...</td>\n",
       "    </tr>\n",
       "    <tr>\n",
       "      <th>31681</th>\n",
       "      <td>9/11/2022</td>\n",
       "      <td>ID-SS</td>\n",
       "      <td>Sumatera Selatan</td>\n",
       "      <td>17</td>\n",
       "      <td>1</td>\n",
       "      <td>26</td>\n",
       "      <td>-10</td>\n",
       "      <td>82173</td>\n",
       "      <td>3374</td>\n",
       "      <td>78476</td>\n",
       "      <td>...</td>\n",
       "      <td>-3.216212</td>\n",
       "      <td>2.07</td>\n",
       "      <td>9999.69</td>\n",
       "      <td>0.12</td>\n",
       "      <td>410.58</td>\n",
       "      <td>41.06</td>\n",
       "      <td>4.11%</td>\n",
       "      <td>95.50%</td>\n",
       "      <td>0.74</td>\n",
       "      <td>NaN</td>\n",
       "    </tr>\n",
       "    <tr>\n",
       "      <th>31716</th>\n",
       "      <td>9/12/2022</td>\n",
       "      <td>ID-SS</td>\n",
       "      <td>Sumatera Selatan</td>\n",
       "      <td>2</td>\n",
       "      <td>1</td>\n",
       "      <td>29</td>\n",
       "      <td>-28</td>\n",
       "      <td>82175</td>\n",
       "      <td>3375</td>\n",
       "      <td>78505</td>\n",
       "      <td>...</td>\n",
       "      <td>-3.216212</td>\n",
       "      <td>0.24</td>\n",
       "      <td>9999.94</td>\n",
       "      <td>0.12</td>\n",
       "      <td>410.71</td>\n",
       "      <td>41.07</td>\n",
       "      <td>4.11%</td>\n",
       "      <td>95.53%</td>\n",
       "      <td>0.12</td>\n",
       "      <td>1.0</td>\n",
       "    </tr>\n",
       "    <tr>\n",
       "      <th>31751</th>\n",
       "      <td>9/13/2022</td>\n",
       "      <td>ID-SS</td>\n",
       "      <td>Sumatera Selatan</td>\n",
       "      <td>2</td>\n",
       "      <td>1</td>\n",
       "      <td>3</td>\n",
       "      <td>-2</td>\n",
       "      <td>82177</td>\n",
       "      <td>3376</td>\n",
       "      <td>78508</td>\n",
       "      <td>...</td>\n",
       "      <td>-3.216212</td>\n",
       "      <td>0.24</td>\n",
       "      <td>10000.18</td>\n",
       "      <td>0.12</td>\n",
       "      <td>410.83</td>\n",
       "      <td>41.08</td>\n",
       "      <td>4.11%</td>\n",
       "      <td>95.54%</td>\n",
       "      <td>1.00</td>\n",
       "      <td>1.0</td>\n",
       "    </tr>\n",
       "    <tr>\n",
       "      <th>31786</th>\n",
       "      <td>9/14/2022</td>\n",
       "      <td>ID-SS</td>\n",
       "      <td>Sumatera Selatan</td>\n",
       "      <td>5</td>\n",
       "      <td>0</td>\n",
       "      <td>1</td>\n",
       "      <td>4</td>\n",
       "      <td>82182</td>\n",
       "      <td>3376</td>\n",
       "      <td>78509</td>\n",
       "      <td>...</td>\n",
       "      <td>-3.216212</td>\n",
       "      <td>0.61</td>\n",
       "      <td>10000.79</td>\n",
       "      <td>0.00</td>\n",
       "      <td>410.83</td>\n",
       "      <td>41.08</td>\n",
       "      <td>4.11%</td>\n",
       "      <td>95.53%</td>\n",
       "      <td>2.50</td>\n",
       "      <td>0.0</td>\n",
       "    </tr>\n",
       "    <tr>\n",
       "      <th>31819</th>\n",
       "      <td>9/15/2022</td>\n",
       "      <td>ID-SS</td>\n",
       "      <td>Sumatera Selatan</td>\n",
       "      <td>16</td>\n",
       "      <td>0</td>\n",
       "      <td>1</td>\n",
       "      <td>15</td>\n",
       "      <td>82198</td>\n",
       "      <td>3376</td>\n",
       "      <td>78510</td>\n",
       "      <td>...</td>\n",
       "      <td>-3.216212</td>\n",
       "      <td>1.95</td>\n",
       "      <td>10002.74</td>\n",
       "      <td>0.00</td>\n",
       "      <td>410.83</td>\n",
       "      <td>41.08</td>\n",
       "      <td>4.11%</td>\n",
       "      <td>95.51%</td>\n",
       "      <td>3.20</td>\n",
       "      <td>1.0</td>\n",
       "    </tr>\n",
       "  </tbody>\n",
       "</table>\n",
       "<p>907 rows × 38 columns</p>\n",
       "</div>"
      ],
      "text/plain": [
       "            Date Location ISO Code          Location  New Cases  New Deaths  \\\n",
       "198    3/23/2020             ID-SS  Sumatera Selatan          1           2   \n",
       "217    3/24/2020             ID-SS  Sumatera Selatan          0           0   \n",
       "236    3/25/2020             ID-SS  Sumatera Selatan          0           0   \n",
       "261    3/26/2020             ID-SS  Sumatera Selatan          0           0   \n",
       "287    3/27/2020             ID-SS  Sumatera Selatan          0           0   \n",
       "...          ...               ...               ...        ...         ...   \n",
       "31681  9/11/2022             ID-SS  Sumatera Selatan         17           1   \n",
       "31716  9/12/2022             ID-SS  Sumatera Selatan          2           1   \n",
       "31751  9/13/2022             ID-SS  Sumatera Selatan          2           1   \n",
       "31786  9/14/2022             ID-SS  Sumatera Selatan          5           0   \n",
       "31819  9/15/2022             ID-SS  Sumatera Selatan         16           0   \n",
       "\n",
       "       New Recovered  New Active Cases  Total Cases  Total Deaths  \\\n",
       "198                0                -1            1             2   \n",
       "217                0                 0            1             2   \n",
       "236                0                 0            1             2   \n",
       "261                0                 0            1             2   \n",
       "287                0                 0            1             2   \n",
       "...              ...               ...          ...           ...   \n",
       "31681             26               -10        82173          3374   \n",
       "31716             29               -28        82175          3375   \n",
       "31751              3                -2        82177          3376   \n",
       "31786              1                 4        82182          3376   \n",
       "31819              1                15        82198          3376   \n",
       "\n",
       "       Total Recovered  ...  Latitude New Cases per Million  \\\n",
       "198                  1  ... -3.216212                  0.12   \n",
       "217                  1  ... -3.216212                  0.00   \n",
       "236                  1  ... -3.216212                  0.00   \n",
       "261                  1  ... -3.216212                  0.00   \n",
       "287                  1  ... -3.216212                  0.00   \n",
       "...                ...  ...       ...                   ...   \n",
       "31681            78476  ... -3.216212                  2.07   \n",
       "31716            78505  ... -3.216212                  0.24   \n",
       "31751            78508  ... -3.216212                  0.24   \n",
       "31786            78509  ... -3.216212                  0.61   \n",
       "31819            78510  ... -3.216212                  1.95   \n",
       "\n",
       "       Total Cases per Million New Deaths per Million  \\\n",
       "198                       0.12                   0.24   \n",
       "217                       0.12                   0.00   \n",
       "236                       0.12                   0.00   \n",
       "261                       0.12                   0.00   \n",
       "287                       0.12                   0.00   \n",
       "...                        ...                    ...   \n",
       "31681                  9999.69                   0.12   \n",
       "31716                  9999.94                   0.12   \n",
       "31751                 10000.18                   0.12   \n",
       "31786                 10000.79                   0.00   \n",
       "31819                 10002.74                   0.00   \n",
       "\n",
       "      Total Deaths per Million Total Deaths per 100rb Case Fatality Rate  \\\n",
       "198                       0.24                   0.02            200.00%   \n",
       "217                       0.24                   0.02            200.00%   \n",
       "236                       0.24                   0.02            200.00%   \n",
       "261                       0.24                   0.02            200.00%   \n",
       "287                       0.24                   0.02            200.00%   \n",
       "...                        ...                    ...                ...   \n",
       "31681                   410.58                  41.06              4.11%   \n",
       "31716                   410.71                  41.07              4.11%   \n",
       "31751                   410.83                  41.08              4.11%   \n",
       "31786                   410.83                  41.08              4.11%   \n",
       "31819                   410.83                  41.08              4.11%   \n",
       "\n",
       "      Case Recovered Rate Growth Factor of New Cases  \\\n",
       "198               100.00%                        NaN   \n",
       "217               100.00%                       0.00   \n",
       "236               100.00%                       1.00   \n",
       "261               100.00%                       1.00   \n",
       "287               100.00%                       1.00   \n",
       "...                   ...                        ...   \n",
       "31681              95.50%                       0.74   \n",
       "31716              95.53%                       0.12   \n",
       "31751              95.54%                       1.00   \n",
       "31786              95.53%                       2.50   \n",
       "31819              95.51%                       3.20   \n",
       "\n",
       "       Growth Factor of New Deaths  \n",
       "198                            NaN  \n",
       "217                            0.0  \n",
       "236                            1.0  \n",
       "261                            1.0  \n",
       "287                            1.0  \n",
       "...                            ...  \n",
       "31681                          NaN  \n",
       "31716                          1.0  \n",
       "31751                          1.0  \n",
       "31786                          0.0  \n",
       "31819                          1.0  \n",
       "\n",
       "[907 rows x 38 columns]"
      ]
     },
     "execution_count": 49,
     "metadata": {},
     "output_type": "execute_result"
    }
   ],
   "source": [
    "covid"
   ]
  },
  {
   "attachments": {},
   "cell_type": "markdown",
   "metadata": {},
   "source": [
    "### Central Tendency"
   ]
  },
  {
   "cell_type": "code",
   "execution_count": 4,
   "metadata": {},
   "outputs": [],
   "source": [
    "# Group data for the South Sumatra region\n",
    "covid = covid[covid['Location'] == \"Sumatera Selatan\"]"
   ]
  },
  {
   "cell_type": "code",
   "execution_count": 5,
   "metadata": {},
   "outputs": [
    {
     "name": "stdout",
     "output_type": "stream",
     "text": [
      "Mean:  38018.84895259096\n",
      "Median:  26976.0\n",
      "Median:  0    1\n",
      "Name: Total Cases, dtype: int64\n"
     ]
    }
   ],
   "source": [
    "#Get Mean\n",
    "print(\"Mean: \", covid['Total Cases'].mean())\n",
    "\n",
    "#Get Median\n",
    "print(\"Median: \", covid['Total Cases'].median())\n",
    "\n",
    "#Get Mode\n",
    "print(\"Median: \", covid['Total Cases'].mode())"
   ]
  },
  {
   "cell_type": "code",
   "execution_count": 6,
   "metadata": {},
   "outputs": [
    {
     "data": {
      "text/plain": [
       "198      Sumatera Selatan\n",
       "217      Sumatera Selatan\n",
       "236      Sumatera Selatan\n",
       "261      Sumatera Selatan\n",
       "287      Sumatera Selatan\n",
       "               ...       \n",
       "31681    Sumatera Selatan\n",
       "31716    Sumatera Selatan\n",
       "31751    Sumatera Selatan\n",
       "31786    Sumatera Selatan\n",
       "31819    Sumatera Selatan\n",
       "Name: Location, Length: 907, dtype: object"
      ]
     },
     "execution_count": 6,
     "metadata": {},
     "output_type": "execute_result"
    }
   ],
   "source": [
    "covid[\"Location\"]"
   ]
  },
  {
   "attachments": {},
   "cell_type": "markdown",
   "metadata": {},
   "source": [
    "### Variance"
   ]
  },
  {
   "cell_type": "code",
   "execution_count": 7,
   "metadata": {},
   "outputs": [
    {
     "name": "stdout",
     "output_type": "stream",
     "text": [
      "New Active Cases range: 1955\n",
      "Total Cases range: 82197\n",
      "Total Deaths range: 3374\n",
      "Total Recovered range: 78509\n"
     ]
    }
   ],
   "source": [
    "#Range\n",
    "case = ['New Active Cases','Total Cases','Total Deaths','Total Recovered']\n",
    "for col in case:\n",
    "    print(covid[col].name + ' range: ' + str(covid[col].max() - covid[col].min()))"
   ]
  },
  {
   "cell_type": "code",
   "execution_count": 8,
   "metadata": {},
   "outputs": [
    {
     "name": "stdout",
     "output_type": "stream",
     "text": [
      "Percentiles : 18.412348401323044\n"
     ]
    }
   ],
   "source": [
    "#Percentiles\n",
    "from scipy import stats\n",
    "\n",
    "print(\"Percentiles :\", stats.percentileofscore(covid['Total Recovered'],3376))"
   ]
  },
  {
   "cell_type": "code",
   "execution_count": 9,
   "metadata": {},
   "outputs": [
    {
     "name": "stdout",
     "output_type": "stream",
     "text": [
      "Quartil : 0.25     8056.0\n",
      "0.50    26976.0\n",
      "0.75    60190.5\n",
      "Name: Total Cases, dtype: float64\n"
     ]
    }
   ],
   "source": [
    "#Quartiles\n",
    "\n",
    "print(\"Quartil :\",covid['Total Cases'].quantile([0.25,0.5,0.75]))"
   ]
  },
  {
   "cell_type": "code",
   "execution_count": 10,
   "metadata": {},
   "outputs": [
    {
     "data": {
      "image/png": "[encoded data removed]",
      "text/plain": [
       "<Figure size 1000x800 with 1 Axes>"
      ]
     },
     "metadata": {},
     "output_type": "display_data"
    }
   ],
   "source": [
    "# Visualize case\n",
    "%matplotlib inline\n",
    "from matplotlib import pyplot as plt\n",
    "\n",
    "covid['Total Cases'].plot(kind='box', title='Total Case', figsize=(10,8))\n",
    "plt.show()"
   ]
  },
  {
   "cell_type": "code",
   "execution_count": 11,
   "metadata": {},
   "outputs": [
    {
     "data": {
      "image/png": "[encoded data removed]",
      "text/plain": [
       "<Figure size 1000x800 with 1 Axes>"
      ]
     },
     "metadata": {},
     "output_type": "display_data"
    }
   ],
   "source": [
    "covid['New Cases per Million'].plot(kind='box', title='New Cases per Million', figsize=(10,8))\n",
    "plt.show()"
   ]
  },
  {
   "cell_type": "code",
   "execution_count": 12,
   "metadata": {},
   "outputs": [
    {
     "name": "stdout",
     "output_type": "stream",
     "text": [
      "952205475.7310225\n"
     ]
    }
   ],
   "source": [
    "# Get the Variance\n",
    "print(covid['Total Cases'].var())"
   ]
  },
  {
   "cell_type": "code",
   "execution_count": 13,
   "metadata": {},
   "outputs": [
    {
     "name": "stdout",
     "output_type": "stream",
     "text": [
      "30857.826814781085\n"
     ]
    }
   ],
   "source": [
    "# Get the Standard Deviation\n",
    "print(covid['Total Cases'].std())"
   ]
  }
 ],
 "metadata": {
  "kernelspec": {
   "display_name": "Python 3",
   "language": "python",
   "name": "python3"
  },
  "language_info": {
   "codemirror_mode": {
    "name": "ipython",
    "version": 3
   },
   "file_extension": ".py",
   "mimetype": "text/x-python",
   "name": "python",
   "nbconvert_exporter": "python",
   "pygments_lexer": "ipython3",
   "version": "3.8.16"
  },
  "orig_nbformat": 4
 },
 "nbformat": 4,
 "nbformat_minor": 2
}
